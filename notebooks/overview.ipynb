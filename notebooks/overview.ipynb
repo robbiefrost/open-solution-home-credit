{
 "cells": [
  {
   "cell_type": "code",
   "execution_count": 2,
   "metadata": {},
   "outputs": [
    {
     "name": "stderr",
     "output_type": "stream",
     "text": [
      "neptune: Executing in Offline Mode.\n",
      "neptune: Executing in Offline Mode.\n"
     ]
    }
   ],
   "source": [
    "import sys\n",
    "sys.path.append('../')\n",
    "\n",
    "from src import pipeline_config  as cfg\n",
    "from src.pipelines import PIPELINES"
   ]
  },
  {
   "cell_type": "code",
   "execution_count": 3,
   "metadata": {},
   "outputs": [
    {
     "name": "stdout",
     "output_type": "stream",
     "text": [
      "2020-05-07 15:07:55 steppy >>> initializing Step application_cleaning...\n",
      "2020-05-07 15:07:55 steppy >>> initializing experiment directories under .\\WORKDIR\n",
      "2020-05-07 15:07:55 steppy >>> done: initializing experiment directories\n",
      "2020-05-07 15:07:55 steppy >>> Step application_cleaning initialized\n",
      "2020-05-07 15:07:55 steppy >>> initializing Step application_hand_crafted...\n",
      "2020-05-07 15:07:55 steppy >>> initializing experiment directories under .\\WORKDIR\n",
      "2020-05-07 15:07:55 steppy >>> done: initializing experiment directories\n",
      "2020-05-07 15:07:55 steppy >>> Step application_hand_crafted initialized\n",
      "2020-05-07 15:07:55 steppy >>> initializing Step bureau_cleaning...\n",
      "2020-05-07 15:07:55 steppy >>> initializing experiment directories under .\\WORKDIR\n",
      "2020-05-07 15:07:55 steppy >>> done: initializing experiment directories\n",
      "2020-05-07 15:07:55 steppy >>> Step bureau_cleaning initialized\n",
      "2020-05-07 15:07:55 steppy >>> initializing Step bureau_hand_crafted...\n",
      "2020-05-07 15:07:55 steppy >>> initializing experiment directories under .\\WORKDIR\n",
      "2020-05-07 15:07:55 steppy >>> done: initializing experiment directories\n",
      "2020-05-07 15:07:55 steppy >>> Step bureau_hand_crafted initialized\n",
      "2020-05-07 15:07:55 steppy >>> initializing Step credit_card_balance_hand_crafted...\n",
      "2020-05-07 15:07:55 steppy >>> initializing experiment directories under .\\WORKDIR\n",
      "2020-05-07 15:07:55 steppy >>> done: initializing experiment directories\n",
      "2020-05-07 15:07:55 steppy >>> Step credit_card_balance_hand_crafted initialized\n",
      "2020-05-07 15:07:55 steppy >>> initializing Step application_groupby_agg...\n",
      "2020-05-07 15:07:55 steppy >>> initializing experiment directories under .\\WORKDIR\n",
      "2020-05-07 15:07:55 steppy >>> done: initializing experiment directories\n",
      "2020-05-07 15:07:55 steppy >>> Step application_groupby_agg initialized\n",
      "2020-05-07 15:07:55 steppy >>> initializing Step bureau_groupby_agg...\n",
      "2020-05-07 15:07:55 steppy >>> initializing experiment directories under .\\WORKDIR\n",
      "2020-05-07 15:07:55 steppy >>> done: initializing experiment directories\n",
      "2020-05-07 15:07:55 steppy >>> Step bureau_groupby_agg initialized\n",
      "2020-05-07 15:07:55 steppy >>> initializing Step credit_card_balance_groupby_agg...\n",
      "2020-05-07 15:07:55 steppy >>> initializing experiment directories under .\\WORKDIR\n",
      "2020-05-07 15:07:55 steppy >>> done: initializing experiment directories\n",
      "2020-05-07 15:07:55 steppy >>> Step credit_card_balance_groupby_agg initialized\n",
      "2020-05-07 15:07:55 steppy >>> initializing Step installments_payments_groupby_agg...\n",
      "2020-05-07 15:07:55 steppy >>> initializing experiment directories under .\\WORKDIR\n",
      "2020-05-07 15:07:55 steppy >>> done: initializing experiment directories\n",
      "2020-05-07 15:07:55 steppy >>> Step installments_payments_groupby_agg initialized\n",
      "2020-05-07 15:07:55 steppy >>> initializing Step pos_cash_balance_groupby_agg...\n",
      "2020-05-07 15:07:55 steppy >>> initializing experiment directories under .\\WORKDIR\n",
      "2020-05-07 15:07:55 steppy >>> done: initializing experiment directories\n",
      "2020-05-07 15:07:55 steppy >>> Step pos_cash_balance_groupby_agg initialized\n",
      "2020-05-07 15:07:55 steppy >>> initializing Step previous_applications_groupby_agg...\n",
      "2020-05-07 15:07:55 steppy >>> initializing experiment directories under .\\WORKDIR\n",
      "2020-05-07 15:07:55 steppy >>> done: initializing experiment directories\n",
      "2020-05-07 15:07:55 steppy >>> Step previous_applications_groupby_agg initialized\n",
      "2020-05-07 15:07:55 steppy >>> initializing Step categorical_encoder...\n",
      "2020-05-07 15:07:55 steppy >>> initializing experiment directories under .\\WORKDIR\n",
      "2020-05-07 15:07:55 steppy >>> done: initializing experiment directories\n",
      "2020-05-07 15:07:55 steppy >>> Step categorical_encoder initialized\n",
      "2020-05-07 15:07:55 steppy >>> initializing Step feature_joiner...\n",
      "2020-05-07 15:07:55 steppy >>> initializing experiment directories under .\\WORKDIR\n",
      "2020-05-07 15:07:55 steppy >>> done: initializing experiment directories\n",
      "2020-05-07 15:07:55 steppy >>> Step feature_joiner initialized\n",
      "2020-05-07 15:07:55 steppy >>> initializing Step light_gbm...\n",
      "2020-05-07 15:07:55 steppy >>> initializing experiment directories under .\\WORKDIR\n",
      "2020-05-07 15:07:55 steppy >>> done: initializing experiment directories\n",
      "2020-05-07 15:07:55 steppy >>> Step light_gbm initialized\n"
     ]
    }
   ],
   "source": [
    "solution_3 = PIPELINES['lightGBM'](config=cfg.SOLUTION_CONFIG, train_mode=False)"
   ]
  },
  {
   "cell_type": "code",
   "execution_count": null,
   "metadata": {},
   "outputs": [],
   "source": [
    "solution_3"
   ]
  },
  {
   "cell_type": "code",
   "execution_count": null,
   "metadata": {},
   "outputs": [],
   "source": []
  }
 ],
 "metadata": {
  "kernelspec": {
   "name": "python3",
   "language": "python",
   "display_name": "Python 3"
  },
  "language_info": {
   "codemirror_mode": {
    "name": "ipython",
    "version": 3
   },
   "file_extension": ".py",
   "mimetype": "text/x-python",
   "name": "python",
   "nbconvert_exporter": "python",
   "pygments_lexer": "ipython3",
   "version": "3.5.2"
  }
 },
 "nbformat": 4,
 "nbformat_minor": 2
}